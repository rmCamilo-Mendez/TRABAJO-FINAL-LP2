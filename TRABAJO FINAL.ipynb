{
 "cells": [
  {
   "cell_type": "code",
   "execution_count": 1,
   "id": "72a28e01",
   "metadata": {},
   "outputs": [],
   "source": [
    "import requests # importamos http\n",
    "from bs4 import BeautifulSoup "
   ]
  },
  {
   "cell_type": "code",
   "execution_count": 2,
   "id": "96843503",
   "metadata": {},
   "outputs": [
    {
     "name": "stdout",
     "output_type": "stream",
     "text": [
      "INGRESE EL NOMBRE DEL PRODUCTO DE LA SIGUIENTE FORMA PRODUCTO+MARCA+TAMAÑO+PREFERENCIA\n",
      "leche gloria sin lactosa\n"
     ]
    }
   ],
   "source": [
    "print(\"INGRESE EL NOMBRE DEL PRODUCTO DE LA SIGUIENTE FORMA PRODUCTO+MARCA+TAMAÑO+PREFERENCIA\")\n",
    "producto=input()"
   ]
  },
  {
   "cell_type": "code",
   "execution_count": 3,
   "id": "3d15cd4f",
   "metadata": {},
   "outputs": [],
   "source": [
    "urls=[\"https://www.metro.pe/\",\"https://www.plazavea.com.pe/\",\"https://www.tottus.com.pe/\"]   # urls de los supermermados METRO,  PLAZA VEA , TOTTUS"
   ]
  },
  {
   "cell_type": "code",
   "execution_count": 4,
   "id": "0f0d6c74",
   "metadata": {},
   "outputs": [],
   "source": [
    "super_mercados=[\"metro\",\"plazavea\",\"tottus\"]\n",
    "\n",
    "for i in super_mercados:\n",
    "  if i==\"metro\":\n",
    "    urlb_metro=urls[0]+\"busca/?ft=\"+producto.replace(\" \", \"%20\")\n",
    "  if i==\"plazavea\":\n",
    "     urlb_plazavea=urls[1]+\"search/?_query=\"+producto.replace(\" \", \"%20\")\n",
    "  if i==\"tottus\":\n",
    "    urlb_tottus=urls[2]+\"buscar?q=\"+producto.replace(\" \", \"%20\")"
   ]
  },
  {
   "cell_type": "code",
   "execution_count": 5,
   "id": "62bf7baf",
   "metadata": {},
   "outputs": [],
   "source": [
    "#PARA METRO\n",
    "\n",
    "res_metro = requests.get(urlb_metro)\n",
    "soup_metro = BeautifulSoup(res_metro.text, 'html.parser')\n",
    "name_metro = soup_metro.find(\"div\", class_=\"product-shelf\").find_all('a', class_ ='product-item__name')\n",
    "precios_metro=soup_metro.find(\"div\", class_=\"product-shelf\").find_all('span', class_ ='product-prices__value product-prices__value--best-price')\n",
    "nombres_productos_metro=[]\n",
    "precios_producto_metro=[]"
   ]
  },
  {
   "cell_type": "code",
   "execution_count": 6,
   "id": "71a50053",
   "metadata": {},
   "outputs": [],
   "source": [
    "import pandas as pd \n",
    "for i in range(len(name_metro)):\n",
    "  nombres_productos_metro.append(name_metro[i].text)\n",
    "  precios_producto_metro.append(precios_metro[i].text)\n",
    "\n",
    "precios_metro_formato= [ float(i[4:].replace(\",\",\"\")) for i in precios_producto_metro] \n",
    "precios_metro_formato\n",
    "mercado=[\"metro\"]*len(precios_metro_formato)\n",
    "\n",
    "\n",
    "df_metro=pd.DataFrame({\"Nombre_producto\":nombres_productos_metro,\"Precios_en_soles \":precios_metro_formato, \"Supermercado\":mercado })"
   ]
  },
  {
   "cell_type": "code",
   "execution_count": 7,
   "id": "7e4f1016",
   "metadata": {},
   "outputs": [
    {
     "name": "stdout",
     "output_type": "stream",
     "text": [
      "                                      Nombre_producto  Precios_en_soles   \\\n",
      "0            Leche UHT Gloria Sin Lactosa tripack 1 L              16.20   \n",
      "1         Leche UHT sin Lactosa Gloria Botella 946 ml               5.40   \n",
      "2    Leche Concentrada Sin Lactosa Gloria Lata 400 gr               4.50   \n",
      "3   Leche Semidescremada UHT Gloria Sin Lactosa Ca...               5.60   \n",
      "4   Leche Semidescremada UHT Gloria Sin Lactosa Bo...               4.89   \n",
      "5   Leche Concentrada Sin Lactosa Gloria Pack de 6...              22.80   \n",
      "6       Leche Semidescremada UHT Sin Lactosa Laive 1L               5.30   \n",
      "7    Leche Semidescremada UHT Laive Sin Lactosa 900ml               4.59   \n",
      "8    Pack x6 Leche Concentrada Sin Lactosa Laive 400g              19.90   \n",
      "9   Leche Concentrada Sin Lactosa Laive Botella 400 g               3.99   \n",
      "10  Yogurt Parcialmente Descremado Sin Lactosa Fre...               7.90   \n",
      "11  Pack x4 Leche Semidescremada UHT Sin Lactosa L...              20.30   \n",
      "12  Batido Con Proteínas Sin Lactosa UHT PRO Frasc...               4.50   \n",
      "13  Bebida de Almendra Vainilla Cuisine & Co Caja ...              10.90   \n",
      "14  Bebida de Almendra Chocolate Cuisine & Co Caja...              10.90   \n",
      "15  Bebida de Almendra Original Cuisine & Co Caja ...              10.90   \n",
      "\n",
      "   Supermercado  \n",
      "0         metro  \n",
      "1         metro  \n",
      "2         metro  \n",
      "3         metro  \n",
      "4         metro  \n",
      "5         metro  \n",
      "6         metro  \n",
      "7         metro  \n",
      "8         metro  \n",
      "9         metro  \n",
      "10        metro  \n",
      "11        metro  \n",
      "12        metro  \n",
      "13        metro  \n",
      "14        metro  \n",
      "15        metro  \n"
     ]
    }
   ],
   "source": [
    "if soup_metro.find(\"div\",class_=\"subtitle\")==None:\n",
    "  print(df_metro)\n",
    "else:\n",
    "  print(\"No se econtro resultados para la busqueda\")"
   ]
  },
  {
   "cell_type": "code",
   "execution_count": 8,
   "id": "4a0a1b3b",
   "metadata": {},
   "outputs": [
    {
     "data": {
      "text/html": [
       "<div>\n",
       "<style scoped>\n",
       "    .dataframe tbody tr th:only-of-type {\n",
       "        vertical-align: middle;\n",
       "    }\n",
       "\n",
       "    .dataframe tbody tr th {\n",
       "        vertical-align: top;\n",
       "    }\n",
       "\n",
       "    .dataframe thead th {\n",
       "        text-align: right;\n",
       "    }\n",
       "</style>\n",
       "<table border=\"1\" class=\"dataframe\">\n",
       "  <thead>\n",
       "    <tr style=\"text-align: right;\">\n",
       "      <th></th>\n",
       "      <th>Nombre_producto</th>\n",
       "      <th>Precios_en_soles</th>\n",
       "      <th>Supermercado</th>\n",
       "    </tr>\n",
       "  </thead>\n",
       "  <tbody>\n",
       "    <tr>\n",
       "      <th>0</th>\n",
       "      <td>Leche UHT Gloria Sin Lactosa tripack 1 L</td>\n",
       "      <td>16.20</td>\n",
       "      <td>metro</td>\n",
       "    </tr>\n",
       "    <tr>\n",
       "      <th>1</th>\n",
       "      <td>Leche UHT sin Lactosa Gloria Botella 946 ml</td>\n",
       "      <td>5.40</td>\n",
       "      <td>metro</td>\n",
       "    </tr>\n",
       "    <tr>\n",
       "      <th>2</th>\n",
       "      <td>Leche Concentrada Sin Lactosa Gloria Lata 400 gr</td>\n",
       "      <td>4.50</td>\n",
       "      <td>metro</td>\n",
       "    </tr>\n",
       "    <tr>\n",
       "      <th>3</th>\n",
       "      <td>Leche Semidescremada UHT Gloria Sin Lactosa Ca...</td>\n",
       "      <td>5.60</td>\n",
       "      <td>metro</td>\n",
       "    </tr>\n",
       "    <tr>\n",
       "      <th>4</th>\n",
       "      <td>Leche Semidescremada UHT Gloria Sin Lactosa Bo...</td>\n",
       "      <td>4.89</td>\n",
       "      <td>metro</td>\n",
       "    </tr>\n",
       "    <tr>\n",
       "      <th>5</th>\n",
       "      <td>Leche Concentrada Sin Lactosa Gloria Pack de 6...</td>\n",
       "      <td>22.80</td>\n",
       "      <td>metro</td>\n",
       "    </tr>\n",
       "    <tr>\n",
       "      <th>6</th>\n",
       "      <td>Leche Semidescremada UHT Sin Lactosa Laive 1L</td>\n",
       "      <td>5.30</td>\n",
       "      <td>metro</td>\n",
       "    </tr>\n",
       "    <tr>\n",
       "      <th>7</th>\n",
       "      <td>Leche Semidescremada UHT Laive Sin Lactosa 900ml</td>\n",
       "      <td>4.59</td>\n",
       "      <td>metro</td>\n",
       "    </tr>\n",
       "    <tr>\n",
       "      <th>8</th>\n",
       "      <td>Pack x6 Leche Concentrada Sin Lactosa Laive 400g</td>\n",
       "      <td>19.90</td>\n",
       "      <td>metro</td>\n",
       "    </tr>\n",
       "    <tr>\n",
       "      <th>9</th>\n",
       "      <td>Leche Concentrada Sin Lactosa Laive Botella 400 g</td>\n",
       "      <td>3.99</td>\n",
       "      <td>metro</td>\n",
       "    </tr>\n",
       "    <tr>\n",
       "      <th>10</th>\n",
       "      <td>Yogurt Parcialmente Descremado Sin Lactosa Fre...</td>\n",
       "      <td>7.90</td>\n",
       "      <td>metro</td>\n",
       "    </tr>\n",
       "    <tr>\n",
       "      <th>11</th>\n",
       "      <td>Pack x4 Leche Semidescremada UHT Sin Lactosa L...</td>\n",
       "      <td>20.30</td>\n",
       "      <td>metro</td>\n",
       "    </tr>\n",
       "    <tr>\n",
       "      <th>12</th>\n",
       "      <td>Batido Con Proteínas Sin Lactosa UHT PRO Frasc...</td>\n",
       "      <td>4.50</td>\n",
       "      <td>metro</td>\n",
       "    </tr>\n",
       "    <tr>\n",
       "      <th>13</th>\n",
       "      <td>Bebida de Almendra Vainilla Cuisine &amp; Co Caja ...</td>\n",
       "      <td>10.90</td>\n",
       "      <td>metro</td>\n",
       "    </tr>\n",
       "    <tr>\n",
       "      <th>14</th>\n",
       "      <td>Bebida de Almendra Chocolate Cuisine &amp; Co Caja...</td>\n",
       "      <td>10.90</td>\n",
       "      <td>metro</td>\n",
       "    </tr>\n",
       "    <tr>\n",
       "      <th>15</th>\n",
       "      <td>Bebida de Almendra Original Cuisine &amp; Co Caja ...</td>\n",
       "      <td>10.90</td>\n",
       "      <td>metro</td>\n",
       "    </tr>\n",
       "  </tbody>\n",
       "</table>\n",
       "</div>"
      ],
      "text/plain": [
       "                                      Nombre_producto  Precios_en_soles   \\\n",
       "0            Leche UHT Gloria Sin Lactosa tripack 1 L              16.20   \n",
       "1         Leche UHT sin Lactosa Gloria Botella 946 ml               5.40   \n",
       "2    Leche Concentrada Sin Lactosa Gloria Lata 400 gr               4.50   \n",
       "3   Leche Semidescremada UHT Gloria Sin Lactosa Ca...               5.60   \n",
       "4   Leche Semidescremada UHT Gloria Sin Lactosa Bo...               4.89   \n",
       "5   Leche Concentrada Sin Lactosa Gloria Pack de 6...              22.80   \n",
       "6       Leche Semidescremada UHT Sin Lactosa Laive 1L               5.30   \n",
       "7    Leche Semidescremada UHT Laive Sin Lactosa 900ml               4.59   \n",
       "8    Pack x6 Leche Concentrada Sin Lactosa Laive 400g              19.90   \n",
       "9   Leche Concentrada Sin Lactosa Laive Botella 400 g               3.99   \n",
       "10  Yogurt Parcialmente Descremado Sin Lactosa Fre...               7.90   \n",
       "11  Pack x4 Leche Semidescremada UHT Sin Lactosa L...              20.30   \n",
       "12  Batido Con Proteínas Sin Lactosa UHT PRO Frasc...               4.50   \n",
       "13  Bebida de Almendra Vainilla Cuisine & Co Caja ...              10.90   \n",
       "14  Bebida de Almendra Chocolate Cuisine & Co Caja...              10.90   \n",
       "15  Bebida de Almendra Original Cuisine & Co Caja ...              10.90   \n",
       "\n",
       "   Supermercado  \n",
       "0         metro  \n",
       "1         metro  \n",
       "2         metro  \n",
       "3         metro  \n",
       "4         metro  \n",
       "5         metro  \n",
       "6         metro  \n",
       "7         metro  \n",
       "8         metro  \n",
       "9         metro  \n",
       "10        metro  \n",
       "11        metro  \n",
       "12        metro  \n",
       "13        metro  \n",
       "14        metro  \n",
       "15        metro  "
      ]
     },
     "execution_count": 8,
     "metadata": {},
     "output_type": "execute_result"
    }
   ],
   "source": [
    "df_metro"
   ]
  },
  {
   "cell_type": "markdown",
   "id": "6cf4c8f9",
   "metadata": {},
   "source": [
    "### CODIGO PARA PLAZAVEA"
   ]
  },
  {
   "cell_type": "code",
   "execution_count": 1,
   "id": "58f46d3e",
   "metadata": {},
   "outputs": [
    {
     "name": "stderr",
     "output_type": "stream",
     "text": [
      "\"apt-get\" no se reconoce como un comando interno o externo,\n",
      "programa o archivo por lotes ejecutable.\n",
      "\"apt\" no se reconoce como un comando interno o externo,\n",
      "programa o archivo por lotes ejecutable.\n",
      "\"cp\" no se reconoce como un comando interno o externo,\n",
      "programa o archivo por lotes ejecutable.\n"
     ]
    },
    {
     "name": "stdout",
     "output_type": "stream",
     "text": [
      "Defaulting to user installation because normal site-packages is not writeable\n",
      "Collecting selenium\n",
      "  Downloading selenium-4.3.0-py3-none-any.whl (981 kB)\n",
      "Collecting trio~=0.17\n",
      "  Downloading trio-0.21.0-py3-none-any.whl (358 kB)\n",
      "Collecting trio-websocket~=0.9\n",
      "  Downloading trio_websocket-0.9.2-py3-none-any.whl (16 kB)\n",
      "Requirement already satisfied: urllib3[secure,socks]~=1.26 in c:\\programdata\\anaconda3\\lib\\site-packages (from selenium) (1.26.9)\n",
      "Requirement already satisfied: sniffio in c:\\programdata\\anaconda3\\lib\\site-packages (from trio~=0.17->selenium) (1.2.0)\n",
      "Requirement already satisfied: attrs>=19.2.0 in c:\\programdata\\anaconda3\\lib\\site-packages (from trio~=0.17->selenium) (21.4.0)\n",
      "Collecting async-generator>=1.9\n",
      "  Downloading async_generator-1.10-py3-none-any.whl (18 kB)\n",
      "Requirement already satisfied: cffi>=1.14 in c:\\programdata\\anaconda3\\lib\\site-packages (from trio~=0.17->selenium) (1.15.0)\n",
      "Requirement already satisfied: sortedcontainers in c:\\programdata\\anaconda3\\lib\\site-packages (from trio~=0.17->selenium) (2.4.0)\n",
      "Requirement already satisfied: idna in c:\\programdata\\anaconda3\\lib\\site-packages (from trio~=0.17->selenium) (3.3)\n",
      "Collecting outcome\n",
      "  Downloading outcome-1.2.0-py2.py3-none-any.whl (9.7 kB)\n",
      "Requirement already satisfied: pycparser in c:\\programdata\\anaconda3\\lib\\site-packages (from cffi>=1.14->trio~=0.17->selenium) (2.21)\n",
      "Collecting wsproto>=0.14\n",
      "  Downloading wsproto-1.1.0-py3-none-any.whl (24 kB)\n",
      "Requirement already satisfied: cryptography>=1.3.4 in c:\\programdata\\anaconda3\\lib\\site-packages (from urllib3[secure,socks]~=1.26->selenium) (3.4.8)\n",
      "Requirement already satisfied: pyOpenSSL>=0.14 in c:\\programdata\\anaconda3\\lib\\site-packages (from urllib3[secure,socks]~=1.26->selenium) (21.0.0)\n",
      "Requirement already satisfied: certifi in c:\\programdata\\anaconda3\\lib\\site-packages (from urllib3[secure,socks]~=1.26->selenium) (2021.10.8)\n",
      "Requirement already satisfied: PySocks!=1.5.7,<2.0,>=1.5.6 in c:\\programdata\\anaconda3\\lib\\site-packages (from urllib3[secure,socks]~=1.26->selenium) (1.7.1)\n",
      "Requirement already satisfied: six>=1.5.2 in c:\\programdata\\anaconda3\\lib\\site-packages (from pyOpenSSL>=0.14->urllib3[secure,socks]~=1.26->selenium) (1.16.0)\n",
      "Collecting h11<1,>=0.9.0\n",
      "  Downloading h11-0.13.0-py3-none-any.whl (58 kB)\n",
      "Installing collected packages: outcome, h11, async-generator, wsproto, trio, trio-websocket, selenium\n",
      "Successfully installed async-generator-1.10 h11-0.13.0 outcome-1.2.0 selenium-4.3.0 trio-0.21.0 trio-websocket-0.9.2 wsproto-1.1.0\n"
     ]
    }
   ],
   "source": [
    "!apt-get update\n",
    "!apt install chromium-chromedriver\n",
    "!cp /usr/lib/chromium-browser/chromedriver /usr/bin\n",
    "!pip install selenium"
   ]
  },
  {
   "cell_type": "code",
   "execution_count": 2,
   "id": "0fa1fa35",
   "metadata": {},
   "outputs": [
    {
     "ename": "ModuleNotFoundError",
     "evalue": "No module named 'selenium'",
     "output_type": "error",
     "traceback": [
      "\u001b[1;31m---------------------------------------------------------------------------\u001b[0m",
      "\u001b[1;31mModuleNotFoundError\u001b[0m                       Traceback (most recent call last)",
      "Input \u001b[1;32mIn [2]\u001b[0m, in \u001b[0;36m<cell line: 1>\u001b[1;34m()\u001b[0m\n\u001b[1;32m----> 1\u001b[0m \u001b[38;5;28;01mfrom\u001b[39;00m \u001b[38;5;21;01mselenium\u001b[39;00m \u001b[38;5;28;01mimport\u001b[39;00m webdriver\n\u001b[0;32m      3\u001b[0m options \u001b[38;5;241m=\u001b[39m webdriver\u001b[38;5;241m.\u001b[39mChromeOptions()\n\u001b[0;32m      4\u001b[0m options\u001b[38;5;241m.\u001b[39madd_argument(\u001b[38;5;124m'\u001b[39m\u001b[38;5;124m--headless\u001b[39m\u001b[38;5;124m'\u001b[39m)\n",
      "\u001b[1;31mModuleNotFoundError\u001b[0m: No module named 'selenium'"
     ]
    }
   ],
   "source": [
    "from selenium import webdriver\n",
    "\n",
    "options = webdriver.ChromeOptions()\n",
    "options.add_argument('--headless')\n",
    "options.add_argument('--no-sandbox')\n",
    "options.add_argument('--disable-dev-shm-usage')\n",
    "driver = webdriver.Chrome('chromedriver',options=options)\n",
    "driver.implicitly_wait(10)"
   ]
  },
  {
   "cell_type": "code",
   "execution_count": null,
   "id": "a81193d8",
   "metadata": {},
   "outputs": [],
   "source": [
    "driver.get(urlb_plazavea)"
   ]
  },
  {
   "cell_type": "code",
   "execution_count": null,
   "id": "fab5f35b",
   "metadata": {},
   "outputs": [],
   "source": [
    "urlb_plazavea"
   ]
  },
  {
   "cell_type": "code",
   "execution_count": null,
   "id": "59c7ccfd",
   "metadata": {},
   "outputs": [],
   "source": [
    "from selenium.webdriver.common.by import By"
   ]
  },
  {
   "cell_type": "code",
   "execution_count": null,
   "id": "fda1295e",
   "metadata": {},
   "outputs": [],
   "source": [
    "gs = driver.find_elements(By.CLASS_NAME, \"Showcase__name\")\n",
    "nombre_plasavea=[]\n",
    "for elemento in gs:\n",
    "  nombre_plasavea.append(elemento.text[:-3])\n",
    "\n",
    "nombre_plasavea\n",
    "len(nombre_plasavea)"
   ]
  },
  {
   "cell_type": "code",
   "execution_count": null,
   "id": "1398cfb4",
   "metadata": {},
   "outputs": [],
   "source": [
    "nombre_plasavea"
   ]
  },
  {
   "cell_type": "code",
   "execution_count": null,
   "id": "7f72073b",
   "metadata": {},
   "outputs": [],
   "source": [
    "nombre_plasavea[0]"
   ]
  },
  {
   "cell_type": "code",
   "execution_count": null,
   "id": "f5c444de",
   "metadata": {},
   "outputs": [],
   "source": [
    "len(nombre_plasavea[0])"
   ]
  },
  {
   "cell_type": "code",
   "execution_count": null,
   "id": "1aae25dd",
   "metadata": {},
   "outputs": [],
   "source": [
    "gs = driver.find_elements(By.CLASS_NAME, \"Showcase__units-reference\")\n",
    "referencia_plasavea=[]\n",
    "for elemento in gs:\n",
    "  referencia_plasavea.append(elemento.text[:-3])\n",
    "\n",
    "referencia_plasavea\n",
    "len(referencia_plasavea)"
   ]
  },
  {
   "cell_type": "code",
   "execution_count": null,
   "id": "eb8fa0a3",
   "metadata": {},
   "outputs": [],
   "source": [
    "referencia_plasavea"
   ]
  },
  {
   "cell_type": "code",
   "execution_count": null,
   "id": "2c679a1d",
   "metadata": {},
   "outputs": [],
   "source": [
    "import re"
   ]
  },
  {
   "cell_type": "code",
   "execution_count": null,
   "id": "595672c5",
   "metadata": {},
   "outputs": [],
   "source": [
    "gss=driver.find_elements(By.XPATH,\"//div[@class='Showcase__salePrice']\")\n",
    "precios_plazavea=[]\n",
    "for elemento in gss:\n",
    "  sentence = elemento.text\n",
    "  s=re.findall(r'-?\\d+\\.?\\d*', sentence)\n",
    "  s=float(s[0])\n",
    "  precios_plazavea.append(s)\n",
    "len(precios_plazavea)"
   ]
  },
  {
   "cell_type": "code",
   "execution_count": null,
   "id": "be2a1be5",
   "metadata": {},
   "outputs": [],
   "source": [
    "precios_plazavea"
   ]
  },
  {
   "cell_type": "code",
   "execution_count": null,
   "id": "c690fe56",
   "metadata": {},
   "outputs": [],
   "source": [
    " len(precios_plazavea)"
   ]
  },
  {
   "cell_type": "code",
   "execution_count": null,
   "id": "692a51dc",
   "metadata": {},
   "outputs": [],
   "source": [
    "df_plazavea=pd.DataFrame({\"Nombre_producto\":nombre_plasavea,\"Precios_en_soles \":precios_plazavea, \"Supermercado\":[\"plazavea\"]*len(nombre_plasavea) , \"referencia\":referencia_plasavea })"
   ]
  },
  {
   "cell_type": "code",
   "execution_count": null,
   "id": "14256fba",
   "metadata": {},
   "outputs": [],
   "source": [
    "df_plazavea"
   ]
  }
 ],
 "metadata": {
  "kernelspec": {
   "display_name": "Python 3 (ipykernel)",
   "language": "python",
   "name": "python3"
  },
  "language_info": {
   "codemirror_mode": {
    "name": "ipython",
    "version": 3
   },
   "file_extension": ".py",
   "mimetype": "text/x-python",
   "name": "python",
   "nbconvert_exporter": "python",
   "pygments_lexer": "ipython3",
   "version": "3.9.12"
  }
 },
 "nbformat": 4,
 "nbformat_minor": 5
}
