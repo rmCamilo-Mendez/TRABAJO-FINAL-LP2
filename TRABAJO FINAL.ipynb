{
 "cells": [
  {
   "cell_type": "markdown",
   "metadata": {
    "id": "IHhGaChEORJb"
   },
   "source": [
    "# <span style=\"color:Orangered\"> _Comparación Automatizada de precios de productos de primera necesidad en los 3 Supermercados más populares: Metro, Plaza Vea, Tottus._</span>\n"
   ]
  },
  {
   "cell_type": "code",
   "execution_count": null,
   "metadata": {},
   "outputs": [],
   "source": [
    "import requests # importamos http\n",
    "from bs4 import BeautifulSoup "
   ]
  },
  {
   "cell_type": "code",
   "execution_count": 2,
   "metadata": {
    "colab": {
     "base_uri": "https://localhost:8080/"
    },
    "id": "YFHD5GwAfvYQ",
    "outputId": "cfe6f3ec-54f1-48c9-84e5-5262bf99d701"
   },
   "outputs": [
    {
     "name": "stdout",
     "output_type": "stream",
     "text": [
      "INGRESE EL NOMBRE DEL PRODUCTO DE LA SIGUIENTE FORMA PRODUCTO+MARCA+TAMAÑO+PREFERENCIA\n",
      "leche gloria sin lactosa\n"
     ]
    }
   ],
   "source": [
    "print(\"INGRESE EL NOMBRE DEL PRODUCTO DE LA SIGUIENTE FORMA PRODUCTO+MARCA+TAMAÑO+PREFERENCIA\")\n",
    "producto=input()\n"
   ]
  },
  {
   "cell_type": "code",
   "execution_count": 3,
   "metadata": {
    "id": "XpBD6dX5f98q"
   },
   "outputs": [],
   "source": [
    "urls=[\"https://www.metro.pe/\",\"https://www.plazavea.com.pe/\",\"https://www.tottus.com.pe/\"]   # urls de los supermermados METRO,  PLAZA VEA , TOTTUS"
   ]
  },
  {
   "cell_type": "code",
   "execution_count": 4,
   "metadata": {
    "id": "FIiUb2OjOO3R"
   },
   "outputs": [],
   "source": [
    "super_mercados=[\"metro\",\"plazavea\",\"tottus\"]\n",
    "\n",
    "for i in super_mercados:\n",
    "  if i==\"metro\":\n",
    "    urlb_metro=urls[0]+\"busca/?ft=\"+producto.replace(\" \", \"%20\")\n",
    "  if i==\"plazavea\":\n",
    "     urlb_plazavea=urls[1]+\"search/?_query=\"+producto.replace(\" \", \"%20\")\n",
    "  if i==\"tottus\":\n",
    "    urlb_tottus=urls[2]+\"buscar?q=\"+producto.replace(\" \", \"%20\")\n"
   ]
  },
  {
   "cell_type": "markdown",
   "metadata": {},
   "source": [
    "## <span style=\"color:Goldenrod\"> _Código para Metro_</span>"
   ]
  },
  {
   "cell_type": "code",
   "execution_count": 5,
   "metadata": {
    "id": "7t7jGHbwT1c3"
   },
   "outputs": [],
   "source": [
    "\n",
    "\n",
    "res_metro = requests.get(urlb_metro)\n",
    "soup_metro = BeautifulSoup(res_metro.text, 'html.parser')\n",
    "name_metro = soup_metro.find(\"div\", class_=\"product-shelf\").find_all('a', class_ ='product-item__name')\n",
    "precios_metro=soup_metro.find(\"div\", class_=\"product-shelf\").find_all('span', class_ ='product-prices__value product-prices__value--best-price')\n",
    "nombres_productos_metro=[]\n",
    "precios_producto_metro=[]\n",
    "\n",
    "\n"
   ]
  },
  {
   "cell_type": "code",
   "execution_count": 6,
   "metadata": {
    "id": "w0BmoMFbYVld"
   },
   "outputs": [],
   "source": [
    "import pandas as pd \n",
    "for i in range(len(name_metro)):\n",
    "  nombres_productos_metro.append(name_metro[i].text)\n",
    "  precios_producto_metro.append(precios_metro[i].text)\n",
    "\n",
    "precios_metro_formato= [ float(i[4:].replace(\",\",\"\")) for i in precios_producto_metro] \n",
    "precios_metro_formato\n",
    "mercado=[\"metro\"]*len(precios_metro_formato)\n",
    "\n",
    "\n",
    "df_metro=pd.DataFrame({\"Nombre_producto\":nombres_productos_metro,\"Precios_en_soles \":precios_metro_formato, \"Supermercado\":mercado })\n",
    "\n"
   ]
  },
  {
   "cell_type": "code",
   "execution_count": null,
   "metadata": {
    "id": "st3DyfBxxQfF"
   },
   "outputs": [],
   "source": [
    "if soup_metro.find(\"div\",class_=\"subtitle\")==None:\n",
    "  print(df_metro)\n",
    "else:\n",
    "  print(\"No se econtro resultados para la busqueda\")"
   ]
  },
  {
   "cell_type": "code",
   "execution_count": 26,
   "metadata": {
    "colab": {
     "base_uri": "https://localhost:8080/",
     "height": 551
    },
    "id": "AA89GeETLyWU",
    "outputId": "1a2a0e97-1ae5-4aa9-bc3d-f6d1629c7924"
   },
   "outputs": [
    {
     "data": {
      "text/html": [
       "\n",
       "  <div id=\"df-44dd0b18-0e62-4f56-9c01-42c2123b3ffb\">\n",
       "    <div class=\"colab-df-container\">\n",
       "      <div>\n",
       "<style scoped>\n",
       "    .dataframe tbody tr th:only-of-type {\n",
       "        vertical-align: middle;\n",
       "    }\n",
       "\n",
       "    .dataframe tbody tr th {\n",
       "        vertical-align: top;\n",
       "    }\n",
       "\n",
       "    .dataframe thead th {\n",
       "        text-align: right;\n",
       "    }\n",
       "</style>\n",
       "<table border=\"1\" class=\"dataframe\">\n",
       "  <thead>\n",
       "    <tr style=\"text-align: right;\">\n",
       "      <th></th>\n",
       "      <th>Nombre_producto</th>\n",
       "      <th>Precios_en_soles</th>\n",
       "      <th>Supermercado</th>\n",
       "    </tr>\n",
       "  </thead>\n",
       "  <tbody>\n",
       "    <tr>\n",
       "      <th>0</th>\n",
       "      <td>Leche UHT Gloria Sin Lactosa tripack 1 L</td>\n",
       "      <td>16.20</td>\n",
       "      <td>metro</td>\n",
       "    </tr>\n",
       "    <tr>\n",
       "      <th>1</th>\n",
       "      <td>Leche UHT sin Lactosa Gloria Botella 946 ml</td>\n",
       "      <td>5.40</td>\n",
       "      <td>metro</td>\n",
       "    </tr>\n",
       "    <tr>\n",
       "      <th>2</th>\n",
       "      <td>Leche Concentrada Sin Lactosa Gloria Lata 400 gr</td>\n",
       "      <td>4.50</td>\n",
       "      <td>metro</td>\n",
       "    </tr>\n",
       "    <tr>\n",
       "      <th>3</th>\n",
       "      <td>Leche Semidescremada UHT Gloria Sin Lactosa Ca...</td>\n",
       "      <td>5.60</td>\n",
       "      <td>metro</td>\n",
       "    </tr>\n",
       "    <tr>\n",
       "      <th>4</th>\n",
       "      <td>Leche Semidescremada UHT Gloria Sin Lactosa Bo...</td>\n",
       "      <td>4.89</td>\n",
       "      <td>metro</td>\n",
       "    </tr>\n",
       "    <tr>\n",
       "      <th>5</th>\n",
       "      <td>Leche Concentrada Sin Lactosa Gloria Pack de 6...</td>\n",
       "      <td>22.80</td>\n",
       "      <td>metro</td>\n",
       "    </tr>\n",
       "    <tr>\n",
       "      <th>6</th>\n",
       "      <td>Leche Semidescremada UHT Sin Lactosa Laive 1L</td>\n",
       "      <td>5.30</td>\n",
       "      <td>metro</td>\n",
       "    </tr>\n",
       "    <tr>\n",
       "      <th>7</th>\n",
       "      <td>Leche Semidescremada UHT Laive Sin Lactosa 900ml</td>\n",
       "      <td>4.59</td>\n",
       "      <td>metro</td>\n",
       "    </tr>\n",
       "    <tr>\n",
       "      <th>8</th>\n",
       "      <td>Pack x6 Leche Concentrada Sin Lactosa Laive 400g</td>\n",
       "      <td>19.90</td>\n",
       "      <td>metro</td>\n",
       "    </tr>\n",
       "    <tr>\n",
       "      <th>9</th>\n",
       "      <td>Leche Concentrada Sin Lactosa Laive Botella 400 g</td>\n",
       "      <td>3.99</td>\n",
       "      <td>metro</td>\n",
       "    </tr>\n",
       "    <tr>\n",
       "      <th>10</th>\n",
       "      <td>Yogurt Parcialmente Descremado Sin Lactosa Fre...</td>\n",
       "      <td>7.90</td>\n",
       "      <td>metro</td>\n",
       "    </tr>\n",
       "    <tr>\n",
       "      <th>11</th>\n",
       "      <td>Pack x4 Leche Semidescremada UHT Sin Lactosa L...</td>\n",
       "      <td>20.30</td>\n",
       "      <td>metro</td>\n",
       "    </tr>\n",
       "    <tr>\n",
       "      <th>12</th>\n",
       "      <td>Batido Con Proteínas Sin Lactosa UHT PRO Frasc...</td>\n",
       "      <td>4.50</td>\n",
       "      <td>metro</td>\n",
       "    </tr>\n",
       "    <tr>\n",
       "      <th>13</th>\n",
       "      <td>Bebida de Almendra Vainilla Cuisine &amp; Co Caja ...</td>\n",
       "      <td>10.90</td>\n",
       "      <td>metro</td>\n",
       "    </tr>\n",
       "    <tr>\n",
       "      <th>14</th>\n",
       "      <td>Bebida de Almendra Chocolate Cuisine &amp; Co Caja...</td>\n",
       "      <td>10.90</td>\n",
       "      <td>metro</td>\n",
       "    </tr>\n",
       "    <tr>\n",
       "      <th>15</th>\n",
       "      <td>Bebida de Almendra Original Cuisine &amp; Co Caja ...</td>\n",
       "      <td>10.90</td>\n",
       "      <td>metro</td>\n",
       "    </tr>\n",
       "  </tbody>\n",
       "</table>\n",
       "</div>\n",
       "      <button class=\"colab-df-convert\" onclick=\"convertToInteractive('df-44dd0b18-0e62-4f56-9c01-42c2123b3ffb')\"\n",
       "              title=\"Convert this dataframe to an interactive table.\"\n",
       "              style=\"display:none;\">\n",
       "        \n",
       "  <svg xmlns=\"http://www.w3.org/2000/svg\" height=\"24px\"viewBox=\"0 0 24 24\"\n",
       "       width=\"24px\">\n",
       "    <path d=\"M0 0h24v24H0V0z\" fill=\"none\"/>\n",
       "    <path d=\"M18.56 5.44l.94 2.06.94-2.06 2.06-.94-2.06-.94-.94-2.06-.94 2.06-2.06.94zm-11 1L8.5 8.5l.94-2.06 2.06-.94-2.06-.94L8.5 2.5l-.94 2.06-2.06.94zm10 10l.94 2.06.94-2.06 2.06-.94-2.06-.94-.94-2.06-.94 2.06-2.06.94z\"/><path d=\"M17.41 7.96l-1.37-1.37c-.4-.4-.92-.59-1.43-.59-.52 0-1.04.2-1.43.59L10.3 9.45l-7.72 7.72c-.78.78-.78 2.05 0 2.83L4 21.41c.39.39.9.59 1.41.59.51 0 1.02-.2 1.41-.59l7.78-7.78 2.81-2.81c.8-.78.8-2.07 0-2.86zM5.41 20L4 18.59l7.72-7.72 1.47 1.35L5.41 20z\"/>\n",
       "  </svg>\n",
       "      </button>\n",
       "      \n",
       "  <style>\n",
       "    .colab-df-container {\n",
       "      display:flex;\n",
       "      flex-wrap:wrap;\n",
       "      gap: 12px;\n",
       "    }\n",
       "\n",
       "    .colab-df-convert {\n",
       "      background-color: #E8F0FE;\n",
       "      border: none;\n",
       "      border-radius: 50%;\n",
       "      cursor: pointer;\n",
       "      display: none;\n",
       "      fill: #1967D2;\n",
       "      height: 32px;\n",
       "      padding: 0 0 0 0;\n",
       "      width: 32px;\n",
       "    }\n",
       "\n",
       "    .colab-df-convert:hover {\n",
       "      background-color: #E2EBFA;\n",
       "      box-shadow: 0px 1px 2px rgba(60, 64, 67, 0.3), 0px 1px 3px 1px rgba(60, 64, 67, 0.15);\n",
       "      fill: #174EA6;\n",
       "    }\n",
       "\n",
       "    [theme=dark] .colab-df-convert {\n",
       "      background-color: #3B4455;\n",
       "      fill: #D2E3FC;\n",
       "    }\n",
       "\n",
       "    [theme=dark] .colab-df-convert:hover {\n",
       "      background-color: #434B5C;\n",
       "      box-shadow: 0px 1px 3px 1px rgba(0, 0, 0, 0.15);\n",
       "      filter: drop-shadow(0px 1px 2px rgba(0, 0, 0, 0.3));\n",
       "      fill: #FFFFFF;\n",
       "    }\n",
       "  </style>\n",
       "\n",
       "      <script>\n",
       "        const buttonEl =\n",
       "          document.querySelector('#df-44dd0b18-0e62-4f56-9c01-42c2123b3ffb button.colab-df-convert');\n",
       "        buttonEl.style.display =\n",
       "          google.colab.kernel.accessAllowed ? 'block' : 'none';\n",
       "\n",
       "        async function convertToInteractive(key) {\n",
       "          const element = document.querySelector('#df-44dd0b18-0e62-4f56-9c01-42c2123b3ffb');\n",
       "          const dataTable =\n",
       "            await google.colab.kernel.invokeFunction('convertToInteractive',\n",
       "                                                     [key], {});\n",
       "          if (!dataTable) return;\n",
       "\n",
       "          const docLinkHtml = 'Like what you see? Visit the ' +\n",
       "            '<a target=\"_blank\" href=https://colab.research.google.com/notebooks/data_table.ipynb>data table notebook</a>'\n",
       "            + ' to learn more about interactive tables.';\n",
       "          element.innerHTML = '';\n",
       "          dataTable['output_type'] = 'display_data';\n",
       "          await google.colab.output.renderOutput(dataTable, element);\n",
       "          const docLink = document.createElement('div');\n",
       "          docLink.innerHTML = docLinkHtml;\n",
       "          element.appendChild(docLink);\n",
       "        }\n",
       "      </script>\n",
       "    </div>\n",
       "  </div>\n",
       "  "
      ],
      "text/plain": [
       "                                      Nombre_producto  Precios_en_soles   \\\n",
       "0            Leche UHT Gloria Sin Lactosa tripack 1 L              16.20   \n",
       "1         Leche UHT sin Lactosa Gloria Botella 946 ml               5.40   \n",
       "2    Leche Concentrada Sin Lactosa Gloria Lata 400 gr               4.50   \n",
       "3   Leche Semidescremada UHT Gloria Sin Lactosa Ca...               5.60   \n",
       "4   Leche Semidescremada UHT Gloria Sin Lactosa Bo...               4.89   \n",
       "5   Leche Concentrada Sin Lactosa Gloria Pack de 6...              22.80   \n",
       "6       Leche Semidescremada UHT Sin Lactosa Laive 1L               5.30   \n",
       "7    Leche Semidescremada UHT Laive Sin Lactosa 900ml               4.59   \n",
       "8    Pack x6 Leche Concentrada Sin Lactosa Laive 400g              19.90   \n",
       "9   Leche Concentrada Sin Lactosa Laive Botella 400 g               3.99   \n",
       "10  Yogurt Parcialmente Descremado Sin Lactosa Fre...               7.90   \n",
       "11  Pack x4 Leche Semidescremada UHT Sin Lactosa L...              20.30   \n",
       "12  Batido Con Proteínas Sin Lactosa UHT PRO Frasc...               4.50   \n",
       "13  Bebida de Almendra Vainilla Cuisine & Co Caja ...              10.90   \n",
       "14  Bebida de Almendra Chocolate Cuisine & Co Caja...              10.90   \n",
       "15  Bebida de Almendra Original Cuisine & Co Caja ...              10.90   \n",
       "\n",
       "   Supermercado  \n",
       "0         metro  \n",
       "1         metro  \n",
       "2         metro  \n",
       "3         metro  \n",
       "4         metro  \n",
       "5         metro  \n",
       "6         metro  \n",
       "7         metro  \n",
       "8         metro  \n",
       "9         metro  \n",
       "10        metro  \n",
       "11        metro  \n",
       "12        metro  \n",
       "13        metro  \n",
       "14        metro  \n",
       "15        metro  "
      ]
     },
     "execution_count": 26,
     "metadata": {},
     "output_type": "execute_result"
    }
   ],
   "source": [
    "df_metro"
   ]
  },
  {
   "cell_type": "markdown",
   "metadata": {
    "id": "80PLAyEMy0i9"
   },
   "source": [
    "## <span style=\"color:red\"> _Código para Plaza Vea_</span>"
   ]
  },
  {
   "cell_type": "code",
   "execution_count": null,
   "metadata": {
    "id": "z9-F_nOqWi2w"
   },
   "outputs": [],
   "source": [
    "!apt-get update\n",
    "!apt install chromium-chromedriver\n",
    "!cp /usr/lib/chromium-browser/chromedriver /usr/bin\n",
    "!pip install selenium"
   ]
  },
  {
   "cell_type": "code",
   "execution_count": 11,
   "metadata": {
    "id": "fMwfwbbxXEev"
   },
   "outputs": [],
   "source": [
    "from selenium import webdriver\n",
    "\n",
    "options = webdriver.ChromeOptions()\n",
    "options.add_argument('--headless')\n",
    "options.add_argument('--no-sandbox')\n",
    "options.add_argument('--disable-dev-shm-usage')\n",
    "driver = webdriver.Chrome('chromedriver',options=options)\n",
    "driver.implicitly_wait(10)"
   ]
  },
  {
   "cell_type": "code",
   "execution_count": 40,
   "metadata": {
    "id": "xvlMbSYocfyY"
   },
   "outputs": [],
   "source": [
    "driver.get(urlb_plazavea)"
   ]
  },
  {
   "cell_type": "code",
   "execution_count": 41,
   "metadata": {
    "colab": {
     "base_uri": "https://localhost:8080/",
     "height": 36
    },
    "id": "q7R-LZYhOJTF",
    "outputId": "63940209-d3ee-4778-bbae-b32b0a3123d3"
   },
   "outputs": [
    {
     "data": {
      "application/vnd.google.colaboratory.intrinsic+json": {
       "type": "string"
      },
      "text/plain": [
       "'https://www.plazavea.com.pe/search/?_query=leche%20gloria%20sin%20lactosa'"
      ]
     },
     "execution_count": 41,
     "metadata": {},
     "output_type": "execute_result"
    }
   ],
   "source": [
    "urlb_plazavea"
   ]
  },
  {
   "cell_type": "code",
   "execution_count": 42,
   "metadata": {
    "id": "birQkJUlbJGN"
   },
   "outputs": [],
   "source": [
    "from selenium.webdriver.common.by import By"
   ]
  },
  {
   "cell_type": "code",
   "execution_count": 52,
   "metadata": {
    "colab": {
     "base_uri": "https://localhost:8080/"
    },
    "id": "PCg4B60pcHb_",
    "outputId": "18c16fcc-1d54-4f62-f474-c814dac90fbc"
   },
   "outputs": [
    {
     "data": {
      "text/plain": [
       "6"
      ]
     },
     "execution_count": 52,
     "metadata": {},
     "output_type": "execute_result"
    }
   ],
   "source": [
    "gs = driver.find_elements(By.CLASS_NAME, \"Showcase__name\")\n",
    "nombre_plasavea=[]\n",
    "for elemento in gs:\n",
    "  nombre_plasavea.append(elemento.text[:-3])\n",
    "\n",
    "nombre_plasavea\n",
    "len(nombre_plasavea)"
   ]
  },
  {
   "cell_type": "code",
   "execution_count": 58,
   "metadata": {
    "colab": {
     "base_uri": "https://localhost:8080/"
    },
    "id": "Jfp4yegVZ_0e",
    "outputId": "eb8d5d4f-7971-4f56-eac8-830a9ac7c305"
   },
   "outputs": [
    {
     "data": {
      "text/plain": [
       "['Leche Evaporada GLORIA sin Lactosa Lata 400g P',\n",
       " 'Leche UHT GLORIA sin Lactosa Pack 3un x',\n",
       " 'Leche UHT GLORIA Sin Lactosa Bolsa 90',\n",
       " 'Leche Fresca UHT GLORIA sin Lactosa Caja',\n",
       " 'Leche UHT Sin Lactosa GLORIA Botella 94',\n",
       " 'Leche GLORIA Evaporada Sin Lactosa Lata 4']"
      ]
     },
     "execution_count": 58,
     "metadata": {},
     "output_type": "execute_result"
    }
   ],
   "source": [
    "nombre_plasavea"
   ]
  },
  {
   "cell_type": "code",
   "execution_count": 59,
   "metadata": {
    "colab": {
     "base_uri": "https://localhost:8080/",
     "height": 36
    },
    "id": "lsbV-3FobDfT",
    "outputId": "081e7197-6323-4bdd-ec57-ab610e9aad6f"
   },
   "outputs": [
    {
     "data": {
      "application/vnd.google.colaboratory.intrinsic+json": {
       "type": "string"
      },
      "text/plain": [
       "'Leche Evaporada GLORIA sin Lactosa Lata 400g P'"
      ]
     },
     "execution_count": 59,
     "metadata": {},
     "output_type": "execute_result"
    }
   ],
   "source": [
    "nombre_plasavea[0]"
   ]
  },
  {
   "cell_type": "code",
   "execution_count": 60,
   "metadata": {
    "colab": {
     "base_uri": "https://localhost:8080/"
    },
    "id": "fw5UxjiMbGAv",
    "outputId": "eab37d36-6d16-4629-88a0-ccc52cbedf81"
   },
   "outputs": [
    {
     "data": {
      "text/plain": [
       "46"
      ]
     },
     "execution_count": 60,
     "metadata": {},
     "output_type": "execute_result"
    }
   ],
   "source": [
    "len(nombre_plasavea[0])"
   ]
  },
  {
   "cell_type": "code",
   "execution_count": 49,
   "metadata": {
    "colab": {
     "base_uri": "https://localhost:8080/"
    },
    "id": "-FI26J68ZFzn",
    "outputId": "c2bd3217-1804-4239-fd9c-0bb0216a1876"
   },
   "outputs": [
    {
     "data": {
      "text/plain": [
       "6"
      ]
     },
     "execution_count": 49,
     "metadata": {},
     "output_type": "execute_result"
    }
   ],
   "source": [
    "gs = driver.find_elements(By.CLASS_NAME, \"Showcase__units-reference\")\n",
    "referencia_plasavea=[]\n",
    "for elemento in gs:\n",
    "  referencia_plasavea.append(elemento.text[:-3])\n",
    "\n",
    "referencia_plasavea\n",
    "len(referencia_plasavea)"
   ]
  },
  {
   "cell_type": "code",
   "execution_count": 50,
   "metadata": {
    "colab": {
     "base_uri": "https://localhost:8080/"
    },
    "id": "EwLXQ-5qUO_u",
    "outputId": "b4cf7a79-f15d-4f4c-abb8-ec3c5b07b2d6"
   },
   "outputs": [
    {
     "data": {
      "text/plain": [
       "['Paquete ', 'Paquete ', 'Bolsa 90', 'Caja', 'Botella 94', 'Lata 4']"
      ]
     },
     "execution_count": 50,
     "metadata": {},
     "output_type": "execute_result"
    }
   ],
   "source": [
    "referencia_plasavea"
   ]
  },
  {
   "cell_type": "code",
   "execution_count": 17,
   "metadata": {
    "id": "rCOrXTxHhngq"
   },
   "outputs": [],
   "source": [
    "import re"
   ]
  },
  {
   "cell_type": "code",
   "execution_count": 18,
   "metadata": {
    "colab": {
     "base_uri": "https://localhost:8080/"
    },
    "id": "MWEVYHD0iHjb",
    "outputId": "0138250b-79c2-44fb-fb06-b02349b551d8"
   },
   "outputs": [
    {
     "data": {
      "text/plain": [
       "6"
      ]
     },
     "execution_count": 18,
     "metadata": {},
     "output_type": "execute_result"
    }
   ],
   "source": [
    "gss=driver.find_elements(By.XPATH,\"//div[@class='Showcase__salePrice']\")\n",
    "precios_plazavea=[]\n",
    "for elemento in gss:\n",
    "  sentence = elemento.text\n",
    "  s=re.findall(r'-?\\d+\\.?\\d*', sentence)\n",
    "  s=float(s[0])\n",
    "  precios_plazavea.append(s)\n",
    "len(precios_plazavea)"
   ]
  },
  {
   "cell_type": "code",
   "execution_count": 19,
   "metadata": {
    "colab": {
     "base_uri": "https://localhost:8080/"
    },
    "id": "bdL_SfnTUbgC",
    "outputId": "30d33913-8dc5-4318-9ddd-f87dec81bd0c"
   },
   "outputs": [
    {
     "data": {
      "text/plain": [
       "[21.6, 16.2, 4.49, 5.6, 5.4, 4.5]"
      ]
     },
     "execution_count": 19,
     "metadata": {},
     "output_type": "execute_result"
    }
   ],
   "source": [
    "precios_plazavea"
   ]
  },
  {
   "cell_type": "code",
   "execution_count": 20,
   "metadata": {
    "colab": {
     "base_uri": "https://localhost:8080/"
    },
    "id": "7D_IIaGwVZhn",
    "outputId": "1cce1c42-51c4-4742-a45f-016a3e347a0d"
   },
   "outputs": [
    {
     "data": {
      "text/plain": [
       "6"
      ]
     },
     "execution_count": 20,
     "metadata": {},
     "output_type": "execute_result"
    }
   ],
   "source": [
    " len(precios_plazavea)"
   ]
  },
  {
   "cell_type": "code",
   "execution_count": 55,
   "metadata": {
    "id": "a6oacg1Aj3Yv"
   },
   "outputs": [],
   "source": [
    "df_plazavea=pd.DataFrame({\"Nombre_producto\":nombre_plasavea,\"Precios_en_soles \":precios_plazavea, \"Supermercado\":[\"plazavea\"]*len(nombre_plasavea) , \"referencia\":referencia_plasavea })"
   ]
  },
  {
   "cell_type": "code",
   "execution_count": 56,
   "metadata": {
    "colab": {
     "base_uri": "https://localhost:8080/",
     "height": 237
    },
    "id": "1m7C0qQZkgLX",
    "outputId": "f22b7f24-685f-4ce4-f6ae-f3db9da4e32e"
   },
   "outputs": [
    {
     "data": {
      "text/html": [
       "\n",
       "  <div id=\"df-9ce37b9d-15ad-46fb-b136-788f6ca93cff\">\n",
       "    <div class=\"colab-df-container\">\n",
       "      <div>\n",
       "<style scoped>\n",
       "    .dataframe tbody tr th:only-of-type {\n",
       "        vertical-align: middle;\n",
       "    }\n",
       "\n",
       "    .dataframe tbody tr th {\n",
       "        vertical-align: top;\n",
       "    }\n",
       "\n",
       "    .dataframe thead th {\n",
       "        text-align: right;\n",
       "    }\n",
       "</style>\n",
       "<table border=\"1\" class=\"dataframe\">\n",
       "  <thead>\n",
       "    <tr style=\"text-align: right;\">\n",
       "      <th></th>\n",
       "      <th>Nombre_producto</th>\n",
       "      <th>Precios_en_soles</th>\n",
       "      <th>Supermercado</th>\n",
       "      <th>referencia</th>\n",
       "    </tr>\n",
       "  </thead>\n",
       "  <tbody>\n",
       "    <tr>\n",
       "      <th>0</th>\n",
       "      <td>Leche Evaporada GLORIA sin Lactosa Lata 400g P</td>\n",
       "      <td>21.60</td>\n",
       "      <td>plazavea</td>\n",
       "      <td>Paquete</td>\n",
       "    </tr>\n",
       "    <tr>\n",
       "      <th>1</th>\n",
       "      <td>Leche UHT GLORIA sin Lactosa Pack 3un x</td>\n",
       "      <td>16.20</td>\n",
       "      <td>plazavea</td>\n",
       "      <td>Paquete</td>\n",
       "    </tr>\n",
       "    <tr>\n",
       "      <th>2</th>\n",
       "      <td>Leche UHT GLORIA Sin Lactosa Bolsa 90</td>\n",
       "      <td>4.49</td>\n",
       "      <td>plazavea</td>\n",
       "      <td>Bolsa 90</td>\n",
       "    </tr>\n",
       "    <tr>\n",
       "      <th>3</th>\n",
       "      <td>Leche Fresca UHT GLORIA sin Lactosa Caja</td>\n",
       "      <td>5.60</td>\n",
       "      <td>plazavea</td>\n",
       "      <td>Caja</td>\n",
       "    </tr>\n",
       "    <tr>\n",
       "      <th>4</th>\n",
       "      <td>Leche UHT Sin Lactosa GLORIA Botella 94</td>\n",
       "      <td>5.40</td>\n",
       "      <td>plazavea</td>\n",
       "      <td>Botella 94</td>\n",
       "    </tr>\n",
       "    <tr>\n",
       "      <th>5</th>\n",
       "      <td>Leche GLORIA Evaporada Sin Lactosa Lata 4</td>\n",
       "      <td>4.50</td>\n",
       "      <td>plazavea</td>\n",
       "      <td>Lata 4</td>\n",
       "    </tr>\n",
       "  </tbody>\n",
       "</table>\n",
       "</div>\n",
       "      <button class=\"colab-df-convert\" onclick=\"convertToInteractive('df-9ce37b9d-15ad-46fb-b136-788f6ca93cff')\"\n",
       "              title=\"Convert this dataframe to an interactive table.\"\n",
       "              style=\"display:none;\">\n",
       "        \n",
       "  <svg xmlns=\"http://www.w3.org/2000/svg\" height=\"24px\"viewBox=\"0 0 24 24\"\n",
       "       width=\"24px\">\n",
       "    <path d=\"M0 0h24v24H0V0z\" fill=\"none\"/>\n",
       "    <path d=\"M18.56 5.44l.94 2.06.94-2.06 2.06-.94-2.06-.94-.94-2.06-.94 2.06-2.06.94zm-11 1L8.5 8.5l.94-2.06 2.06-.94-2.06-.94L8.5 2.5l-.94 2.06-2.06.94zm10 10l.94 2.06.94-2.06 2.06-.94-2.06-.94-.94-2.06-.94 2.06-2.06.94z\"/><path d=\"M17.41 7.96l-1.37-1.37c-.4-.4-.92-.59-1.43-.59-.52 0-1.04.2-1.43.59L10.3 9.45l-7.72 7.72c-.78.78-.78 2.05 0 2.83L4 21.41c.39.39.9.59 1.41.59.51 0 1.02-.2 1.41-.59l7.78-7.78 2.81-2.81c.8-.78.8-2.07 0-2.86zM5.41 20L4 18.59l7.72-7.72 1.47 1.35L5.41 20z\"/>\n",
       "  </svg>\n",
       "      </button>\n",
       "      \n",
       "  <style>\n",
       "    .colab-df-container {\n",
       "      display:flex;\n",
       "      flex-wrap:wrap;\n",
       "      gap: 12px;\n",
       "    }\n",
       "\n",
       "    .colab-df-convert {\n",
       "      background-color: #E8F0FE;\n",
       "      border: none;\n",
       "      border-radius: 50%;\n",
       "      cursor: pointer;\n",
       "      display: none;\n",
       "      fill: #1967D2;\n",
       "      height: 32px;\n",
       "      padding: 0 0 0 0;\n",
       "      width: 32px;\n",
       "    }\n",
       "\n",
       "    .colab-df-convert:hover {\n",
       "      background-color: #E2EBFA;\n",
       "      box-shadow: 0px 1px 2px rgba(60, 64, 67, 0.3), 0px 1px 3px 1px rgba(60, 64, 67, 0.15);\n",
       "      fill: #174EA6;\n",
       "    }\n",
       "\n",
       "    [theme=dark] .colab-df-convert {\n",
       "      background-color: #3B4455;\n",
       "      fill: #D2E3FC;\n",
       "    }\n",
       "\n",
       "    [theme=dark] .colab-df-convert:hover {\n",
       "      background-color: #434B5C;\n",
       "      box-shadow: 0px 1px 3px 1px rgba(0, 0, 0, 0.15);\n",
       "      filter: drop-shadow(0px 1px 2px rgba(0, 0, 0, 0.3));\n",
       "      fill: #FFFFFF;\n",
       "    }\n",
       "  </style>\n",
       "\n",
       "      <script>\n",
       "        const buttonEl =\n",
       "          document.querySelector('#df-9ce37b9d-15ad-46fb-b136-788f6ca93cff button.colab-df-convert');\n",
       "        buttonEl.style.display =\n",
       "          google.colab.kernel.accessAllowed ? 'block' : 'none';\n",
       "\n",
       "        async function convertToInteractive(key) {\n",
       "          const element = document.querySelector('#df-9ce37b9d-15ad-46fb-b136-788f6ca93cff');\n",
       "          const dataTable =\n",
       "            await google.colab.kernel.invokeFunction('convertToInteractive',\n",
       "                                                     [key], {});\n",
       "          if (!dataTable) return;\n",
       "\n",
       "          const docLinkHtml = 'Like what you see? Visit the ' +\n",
       "            '<a target=\"_blank\" href=https://colab.research.google.com/notebooks/data_table.ipynb>data table notebook</a>'\n",
       "            + ' to learn more about interactive tables.';\n",
       "          element.innerHTML = '';\n",
       "          dataTable['output_type'] = 'display_data';\n",
       "          await google.colab.output.renderOutput(dataTable, element);\n",
       "          const docLink = document.createElement('div');\n",
       "          docLink.innerHTML = docLinkHtml;\n",
       "          element.appendChild(docLink);\n",
       "        }\n",
       "      </script>\n",
       "    </div>\n",
       "  </div>\n",
       "  "
      ],
      "text/plain": [
       "                                  Nombre_producto  Precios_en_soles   \\\n",
       "0  Leche Evaporada GLORIA sin Lactosa Lata 400g P              21.60   \n",
       "1         Leche UHT GLORIA sin Lactosa Pack 3un x              16.20   \n",
       "2           Leche UHT GLORIA Sin Lactosa Bolsa 90               4.49   \n",
       "3        Leche Fresca UHT GLORIA sin Lactosa Caja               5.60   \n",
       "4         Leche UHT Sin Lactosa GLORIA Botella 94               5.40   \n",
       "5       Leche GLORIA Evaporada Sin Lactosa Lata 4               4.50   \n",
       "\n",
       "  Supermercado  referencia  \n",
       "0     plazavea    Paquete   \n",
       "1     plazavea    Paquete   \n",
       "2     plazavea    Bolsa 90  \n",
       "3     plazavea        Caja  \n",
       "4     plazavea  Botella 94  \n",
       "5     plazavea      Lata 4  "
      ]
     },
     "execution_count": 56,
     "metadata": {},
     "output_type": "execute_result"
    }
   ],
   "source": [
    "df_plazavea"
   ]
  },
  {
   "cell_type": "markdown",
   "metadata": {
    "id": "YGCOXcTgcBqg"
   },
   "source": [
    "## <span style=\"color:Green\"> _Código para Tottus_</span>"
   ]
  },
  {
   "cell_type": "code",
   "execution_count": null,
   "metadata": {},
   "outputs": [],
   "source": [
    "urlb_tottus"
   ]
  },
  {
   "cell_type": "code",
   "execution_count": 24,
   "metadata": {
    "id": "6q9qKGF-r10e"
   },
   "outputs": [],
   "source": [
    "driver.get(urlb_tottus)"
   ]
  },
  {
   "cell_type": "code",
   "execution_count": 25,
   "metadata": {
    "id": "7S1wzGgZQgO1"
   },
   "outputs": [],
   "source": [
    "from selenium.webdriver.common.by import By"
   ]
  },
  {
   "cell_type": "code",
   "execution_count": 27,
   "metadata": {
    "colab": {
     "base_uri": "https://localhost:8080/"
    },
    "id": "K_AWXvjrsH82",
    "outputId": "a52df738-2898-469d-cc6d-63fc1b4130e8"
   },
   "outputs": [
    {
     "data": {
      "text/plain": [
       "['LECHE GLORIA DESCREMADA SIN LACTOSA UTH 900 ML',\n",
       " 'LECHE SIN LACTOSA GLORIA 400 GR',\n",
       " 'SIX PACK CONCENTRADA SIN LACTOSA GLORIA 400 GR',\n",
       " 'LECHE SIN LÁCTOSA UHT GLORIA 946 ML',\n",
       " 'LECHE SIN LACTOSA GLORIA 1 LT',\n",
       " 'PACK LECHE SEMIDESCREMADA GLORIA 3 UNIDADES',\n",
       " 'LECHE EVAPORADA GLORIA LIGHT 400 GR',\n",
       " 'SIX PACK LECHE LIGHT GLORIA',\n",
       " 'LECHE FRESCA LIGHT GLORIA 1 LT',\n",
       " 'LECHE SEMIDESCREM UHT LIGHT 3 UNIDADES',\n",
       " 'LECHE SEMIDESCREM UHT SUPER LIGHT 3 UNIDADES']"
      ]
     },
     "execution_count": 27,
     "metadata": {},
     "output_type": "execute_result"
    }
   ],
   "source": [
    "gs_tottus = driver.find_elements(By.XPATH,\"//h2[@class='jsx-369422875 name title mini']\")\n",
    "nombre_tottus=[]\n",
    "for elemento in gs_tottus:\n",
    "  nombre_tottus.append(elemento.text)\n",
    "\n",
    "nombre_tottus"
   ]
  },
  {
   "cell_type": "code",
   "execution_count": 28,
   "metadata": {
    "colab": {
     "base_uri": "https://localhost:8080/"
    },
    "id": "xaFFPYKRlWkF",
    "outputId": "496a9408-5f25-4e53-ff2c-df212275bab1"
   },
   "outputs": [
    {
     "data": {
      "text/plain": [
       "['LECHE GLORIA DESCREMADA SIN LACTOSA UTH 900 ML',\n",
       " 'LECHE SIN LACTOSA GLORIA 400 GR',\n",
       " 'SIX PACK CONCENTRADA SIN LACTOSA GLORIA 400 GR',\n",
       " 'LECHE SIN LÁCTOSA UHT GLORIA 946 ML',\n",
       " 'LECHE SIN LACTOSA GLORIA 1 LT',\n",
       " 'PACK LECHE SEMIDESCREMADA GLORIA 3 UNIDADES',\n",
       " 'LECHE EVAPORADA GLORIA LIGHT 400 GR',\n",
       " 'SIX PACK LECHE LIGHT GLORIA',\n",
       " 'LECHE FRESCA LIGHT GLORIA 1 LT',\n",
       " 'LECHE SEMIDESCREM UHT LIGHT 3 UNIDADES',\n",
       " 'LECHE SEMIDESCREM UHT SUPER LIGHT 3 UNIDADES']"
      ]
     },
     "execution_count": 28,
     "metadata": {},
     "output_type": "execute_result"
    }
   ],
   "source": [
    "nombre_tottus"
   ]
  },
  {
   "cell_type": "code",
   "execution_count": 29,
   "metadata": {
    "colab": {
     "base_uri": "https://localhost:8080/"
    },
    "id": "e3h0YaOElRSV",
    "outputId": "e24ff9e0-7261-488a-e3ab-5fe360c3a15b"
   },
   "outputs": [
    {
     "data": {
      "text/plain": [
       "11"
      ]
     },
     "execution_count": 29,
     "metadata": {},
     "output_type": "execute_result"
    }
   ],
   "source": [
    "len(nombre_tottus)"
   ]
  },
  {
   "cell_type": "code",
   "execution_count": 30,
   "metadata": {
    "colab": {
     "base_uri": "https://localhost:8080/"
    },
    "id": "s9124PYrtjE2",
    "outputId": "3b45f446-2794-44dd-c82b-b1dd8b3272ec"
   },
   "outputs": [
    {
     "data": {
      "text/plain": [
       "[4.2, 4.9, 23.6, 5.5, 6.3, 16.4, 4.7, 22.4, 5.9, 17.2, 16.0]"
      ]
     },
     "execution_count": 30,
     "metadata": {},
     "output_type": "execute_result"
    }
   ],
   "source": [
    "gs_tottus_precios = driver.find_elements(By.XPATH,\"//span[@class='list price medium cmrPrice ']\")\n",
    "precios_tottus=[]\n",
    "for elemento in gs_tottus_precios:\n",
    "  sentence = elemento.text\n",
    "  s=re.findall(r'-?\\d+\\.?\\d*', sentence)\n",
    "  s=float(s[0])\n",
    "  precios_tottus.append(s)\n",
    "precios_tottus"
   ]
  },
  {
   "cell_type": "code",
   "execution_count": 31,
   "metadata": {
    "colab": {
     "base_uri": "https://localhost:8080/"
    },
    "id": "LixPczXKlOMV",
    "outputId": "a64de1dd-bfb9-4fa6-ed1a-fb1f5c46138e"
   },
   "outputs": [
    {
     "data": {
      "text/plain": [
       "11"
      ]
     },
     "execution_count": 31,
     "metadata": {},
     "output_type": "execute_result"
    }
   ],
   "source": [
    "len(precios_tottus)"
   ]
  },
  {
   "cell_type": "code",
   "execution_count": 32,
   "metadata": {
    "colab": {
     "base_uri": "https://localhost:8080/"
    },
    "id": "yb7gk9GHlwEN",
    "outputId": "32102813-d149-4e13-d31d-fbbe3d5ffa46"
   },
   "outputs": [
    {
     "data": {
      "text/plain": [
       "11"
      ]
     },
     "execution_count": 32,
     "metadata": {},
     "output_type": "execute_result"
    }
   ],
   "source": [
    "len(nombre_tottus[0:47])"
   ]
  },
  {
   "cell_type": "code",
   "execution_count": 35,
   "metadata": {
    "id": "te1HMWyiujtu"
   },
   "outputs": [],
   "source": [
    "df_tottus=pd.DataFrame({\"Nombre_producto\":nombre_tottus,\"Precios_en_soles \":precios_tottus, \"Supermercado\":[\"tottus\"]*len(precios_tottus) })"
   ]
  },
  {
   "cell_type": "code",
   "execution_count": 36,
   "metadata": {
    "colab": {
     "base_uri": "https://localhost:8080/",
     "height": 394
    },
    "id": "y9KhhfcoyweG",
    "outputId": "235b8bd1-3c87-4f7e-d4da-9456eff858b5"
   },
   "outputs": [
    {
     "data": {
      "text/html": [
       "\n",
       "  <div id=\"df-0c47b2d9-1016-4925-b244-b5e51dfc4d54\">\n",
       "    <div class=\"colab-df-container\">\n",
       "      <div>\n",
       "<style scoped>\n",
       "    .dataframe tbody tr th:only-of-type {\n",
       "        vertical-align: middle;\n",
       "    }\n",
       "\n",
       "    .dataframe tbody tr th {\n",
       "        vertical-align: top;\n",
       "    }\n",
       "\n",
       "    .dataframe thead th {\n",
       "        text-align: right;\n",
       "    }\n",
       "</style>\n",
       "<table border=\"1\" class=\"dataframe\">\n",
       "  <thead>\n",
       "    <tr style=\"text-align: right;\">\n",
       "      <th></th>\n",
       "      <th>Nombre_producto</th>\n",
       "      <th>Precios_en_soles</th>\n",
       "      <th>Supermercado</th>\n",
       "    </tr>\n",
       "  </thead>\n",
       "  <tbody>\n",
       "    <tr>\n",
       "      <th>0</th>\n",
       "      <td>LECHE GLORIA DESCREMADA SIN LACTOSA UTH 900 ML</td>\n",
       "      <td>4.2</td>\n",
       "      <td>tottus</td>\n",
       "    </tr>\n",
       "    <tr>\n",
       "      <th>1</th>\n",
       "      <td>LECHE SIN LACTOSA GLORIA 400 GR</td>\n",
       "      <td>4.9</td>\n",
       "      <td>tottus</td>\n",
       "    </tr>\n",
       "    <tr>\n",
       "      <th>2</th>\n",
       "      <td>SIX PACK CONCENTRADA SIN LACTOSA GLORIA 400 GR</td>\n",
       "      <td>23.6</td>\n",
       "      <td>tottus</td>\n",
       "    </tr>\n",
       "    <tr>\n",
       "      <th>3</th>\n",
       "      <td>LECHE SIN LÁCTOSA UHT GLORIA 946 ML</td>\n",
       "      <td>5.5</td>\n",
       "      <td>tottus</td>\n",
       "    </tr>\n",
       "    <tr>\n",
       "      <th>4</th>\n",
       "      <td>LECHE SIN LACTOSA GLORIA 1 LT</td>\n",
       "      <td>6.3</td>\n",
       "      <td>tottus</td>\n",
       "    </tr>\n",
       "    <tr>\n",
       "      <th>5</th>\n",
       "      <td>PACK LECHE SEMIDESCREMADA GLORIA 3 UNIDADES</td>\n",
       "      <td>16.4</td>\n",
       "      <td>tottus</td>\n",
       "    </tr>\n",
       "    <tr>\n",
       "      <th>6</th>\n",
       "      <td>LECHE EVAPORADA GLORIA LIGHT 400 GR</td>\n",
       "      <td>4.7</td>\n",
       "      <td>tottus</td>\n",
       "    </tr>\n",
       "    <tr>\n",
       "      <th>7</th>\n",
       "      <td>SIX PACK LECHE LIGHT GLORIA</td>\n",
       "      <td>22.4</td>\n",
       "      <td>tottus</td>\n",
       "    </tr>\n",
       "    <tr>\n",
       "      <th>8</th>\n",
       "      <td>LECHE FRESCA LIGHT GLORIA 1 LT</td>\n",
       "      <td>5.9</td>\n",
       "      <td>tottus</td>\n",
       "    </tr>\n",
       "    <tr>\n",
       "      <th>9</th>\n",
       "      <td>LECHE SEMIDESCREM UHT LIGHT 3 UNIDADES</td>\n",
       "      <td>17.2</td>\n",
       "      <td>tottus</td>\n",
       "    </tr>\n",
       "    <tr>\n",
       "      <th>10</th>\n",
       "      <td>LECHE SEMIDESCREM UHT SUPER LIGHT 3 UNIDADES</td>\n",
       "      <td>16.0</td>\n",
       "      <td>tottus</td>\n",
       "    </tr>\n",
       "  </tbody>\n",
       "</table>\n",
       "</div>\n",
       "      <button class=\"colab-df-convert\" onclick=\"convertToInteractive('df-0c47b2d9-1016-4925-b244-b5e51dfc4d54')\"\n",
       "              title=\"Convert this dataframe to an interactive table.\"\n",
       "              style=\"display:none;\">\n",
       "        \n",
       "  <svg xmlns=\"http://www.w3.org/2000/svg\" height=\"24px\"viewBox=\"0 0 24 24\"\n",
       "       width=\"24px\">\n",
       "    <path d=\"M0 0h24v24H0V0z\" fill=\"none\"/>\n",
       "    <path d=\"M18.56 5.44l.94 2.06.94-2.06 2.06-.94-2.06-.94-.94-2.06-.94 2.06-2.06.94zm-11 1L8.5 8.5l.94-2.06 2.06-.94-2.06-.94L8.5 2.5l-.94 2.06-2.06.94zm10 10l.94 2.06.94-2.06 2.06-.94-2.06-.94-.94-2.06-.94 2.06-2.06.94z\"/><path d=\"M17.41 7.96l-1.37-1.37c-.4-.4-.92-.59-1.43-.59-.52 0-1.04.2-1.43.59L10.3 9.45l-7.72 7.72c-.78.78-.78 2.05 0 2.83L4 21.41c.39.39.9.59 1.41.59.51 0 1.02-.2 1.41-.59l7.78-7.78 2.81-2.81c.8-.78.8-2.07 0-2.86zM5.41 20L4 18.59l7.72-7.72 1.47 1.35L5.41 20z\"/>\n",
       "  </svg>\n",
       "      </button>\n",
       "      \n",
       "  <style>\n",
       "    .colab-df-container {\n",
       "      display:flex;\n",
       "      flex-wrap:wrap;\n",
       "      gap: 12px;\n",
       "    }\n",
       "\n",
       "    .colab-df-convert {\n",
       "      background-color: #E8F0FE;\n",
       "      border: none;\n",
       "      border-radius: 50%;\n",
       "      cursor: pointer;\n",
       "      display: none;\n",
       "      fill: #1967D2;\n",
       "      height: 32px;\n",
       "      padding: 0 0 0 0;\n",
       "      width: 32px;\n",
       "    }\n",
       "\n",
       "    .colab-df-convert:hover {\n",
       "      background-color: #E2EBFA;\n",
       "      box-shadow: 0px 1px 2px rgba(60, 64, 67, 0.3), 0px 1px 3px 1px rgba(60, 64, 67, 0.15);\n",
       "      fill: #174EA6;\n",
       "    }\n",
       "\n",
       "    [theme=dark] .colab-df-convert {\n",
       "      background-color: #3B4455;\n",
       "      fill: #D2E3FC;\n",
       "    }\n",
       "\n",
       "    [theme=dark] .colab-df-convert:hover {\n",
       "      background-color: #434B5C;\n",
       "      box-shadow: 0px 1px 3px 1px rgba(0, 0, 0, 0.15);\n",
       "      filter: drop-shadow(0px 1px 2px rgba(0, 0, 0, 0.3));\n",
       "      fill: #FFFFFF;\n",
       "    }\n",
       "  </style>\n",
       "\n",
       "      <script>\n",
       "        const buttonEl =\n",
       "          document.querySelector('#df-0c47b2d9-1016-4925-b244-b5e51dfc4d54 button.colab-df-convert');\n",
       "        buttonEl.style.display =\n",
       "          google.colab.kernel.accessAllowed ? 'block' : 'none';\n",
       "\n",
       "        async function convertToInteractive(key) {\n",
       "          const element = document.querySelector('#df-0c47b2d9-1016-4925-b244-b5e51dfc4d54');\n",
       "          const dataTable =\n",
       "            await google.colab.kernel.invokeFunction('convertToInteractive',\n",
       "                                                     [key], {});\n",
       "          if (!dataTable) return;\n",
       "\n",
       "          const docLinkHtml = 'Like what you see? Visit the ' +\n",
       "            '<a target=\"_blank\" href=https://colab.research.google.com/notebooks/data_table.ipynb>data table notebook</a>'\n",
       "            + ' to learn more about interactive tables.';\n",
       "          element.innerHTML = '';\n",
       "          dataTable['output_type'] = 'display_data';\n",
       "          await google.colab.output.renderOutput(dataTable, element);\n",
       "          const docLink = document.createElement('div');\n",
       "          docLink.innerHTML = docLinkHtml;\n",
       "          element.appendChild(docLink);\n",
       "        }\n",
       "      </script>\n",
       "    </div>\n",
       "  </div>\n",
       "  "
      ],
      "text/plain": [
       "                                   Nombre_producto  Precios_en_soles   \\\n",
       "0   LECHE GLORIA DESCREMADA SIN LACTOSA UTH 900 ML                4.2   \n",
       "1                  LECHE SIN LACTOSA GLORIA 400 GR                4.9   \n",
       "2   SIX PACK CONCENTRADA SIN LACTOSA GLORIA 400 GR               23.6   \n",
       "3              LECHE SIN LÁCTOSA UHT GLORIA 946 ML                5.5   \n",
       "4                    LECHE SIN LACTOSA GLORIA 1 LT                6.3   \n",
       "5      PACK LECHE SEMIDESCREMADA GLORIA 3 UNIDADES               16.4   \n",
       "6              LECHE EVAPORADA GLORIA LIGHT 400 GR                4.7   \n",
       "7                      SIX PACK LECHE LIGHT GLORIA               22.4   \n",
       "8                   LECHE FRESCA LIGHT GLORIA 1 LT                5.9   \n",
       "9           LECHE SEMIDESCREM UHT LIGHT 3 UNIDADES               17.2   \n",
       "10    LECHE SEMIDESCREM UHT SUPER LIGHT 3 UNIDADES               16.0   \n",
       "\n",
       "   Supermercado  \n",
       "0        tottus  \n",
       "1        tottus  \n",
       "2        tottus  \n",
       "3        tottus  \n",
       "4        tottus  \n",
       "5        tottus  \n",
       "6        tottus  \n",
       "7        tottus  \n",
       "8        tottus  \n",
       "9        tottus  \n",
       "10       tottus  "
      ]
     },
     "execution_count": 36,
     "metadata": {},
     "output_type": "execute_result"
    }
   ],
   "source": [
    "df_tottus"
   ]
  },
  {
   "cell_type": "markdown",
   "metadata": {},
   "source": [
    "### Todos los productos de los 3 supermercados"
   ]
  },
  {
   "cell_type": "code",
   "execution_count": null,
   "metadata": {
    "id": "_P_I71OsXLvw"
   },
   "outputs": [],
   "source": [
    "import numpy as np\n",
    "import pandas as pd"
   ]
  },
  {
   "cell_type": "code",
   "execution_count": 38,
   "metadata": {
    "colab": {
     "base_uri": "https://localhost:8080/",
     "height": 1000
    },
    "id": "4Mi_oJl6YKEC",
    "outputId": "f5955041-a508-4538-b0ff-2e7076166beb"
   },
   "outputs": [
    {
     "data": {
      "text/html": [
       "\n",
       "  <div id=\"df-7b94745e-4174-4d33-a623-81e0ae5811ba\">\n",
       "    <div class=\"colab-df-container\">\n",
       "      <div>\n",
       "<style scoped>\n",
       "    .dataframe tbody tr th:only-of-type {\n",
       "        vertical-align: middle;\n",
       "    }\n",
       "\n",
       "    .dataframe tbody tr th {\n",
       "        vertical-align: top;\n",
       "    }\n",
       "\n",
       "    .dataframe thead th {\n",
       "        text-align: right;\n",
       "    }\n",
       "</style>\n",
       "<table border=\"1\" class=\"dataframe\">\n",
       "  <thead>\n",
       "    <tr style=\"text-align: right;\">\n",
       "      <th></th>\n",
       "      <th>Nombre_producto</th>\n",
       "      <th>Precios_en_soles</th>\n",
       "      <th>Supermercado</th>\n",
       "    </tr>\n",
       "  </thead>\n",
       "  <tbody>\n",
       "    <tr>\n",
       "      <th>0</th>\n",
       "      <td>LECHE GLORIA DESCREMADA SIN LACTOSA UTH 900 ML</td>\n",
       "      <td>4.20</td>\n",
       "      <td>tottus</td>\n",
       "    </tr>\n",
       "    <tr>\n",
       "      <th>1</th>\n",
       "      <td>LECHE SIN LACTOSA GLORIA 400 GR</td>\n",
       "      <td>4.90</td>\n",
       "      <td>tottus</td>\n",
       "    </tr>\n",
       "    <tr>\n",
       "      <th>2</th>\n",
       "      <td>SIX PACK CONCENTRADA SIN LACTOSA GLORIA 400 GR</td>\n",
       "      <td>23.60</td>\n",
       "      <td>tottus</td>\n",
       "    </tr>\n",
       "    <tr>\n",
       "      <th>3</th>\n",
       "      <td>LECHE SIN LÁCTOSA UHT GLORIA 946 ML</td>\n",
       "      <td>5.50</td>\n",
       "      <td>tottus</td>\n",
       "    </tr>\n",
       "    <tr>\n",
       "      <th>4</th>\n",
       "      <td>LECHE SIN LACTOSA GLORIA 1 LT</td>\n",
       "      <td>6.30</td>\n",
       "      <td>tottus</td>\n",
       "    </tr>\n",
       "    <tr>\n",
       "      <th>5</th>\n",
       "      <td>PACK LECHE SEMIDESCREMADA GLORIA 3 UNIDADES</td>\n",
       "      <td>16.40</td>\n",
       "      <td>tottus</td>\n",
       "    </tr>\n",
       "    <tr>\n",
       "      <th>6</th>\n",
       "      <td>LECHE EVAPORADA GLORIA LIGHT 400 GR</td>\n",
       "      <td>4.70</td>\n",
       "      <td>tottus</td>\n",
       "    </tr>\n",
       "    <tr>\n",
       "      <th>7</th>\n",
       "      <td>SIX PACK LECHE LIGHT GLORIA</td>\n",
       "      <td>22.40</td>\n",
       "      <td>tottus</td>\n",
       "    </tr>\n",
       "    <tr>\n",
       "      <th>8</th>\n",
       "      <td>LECHE FRESCA LIGHT GLORIA 1 LT</td>\n",
       "      <td>5.90</td>\n",
       "      <td>tottus</td>\n",
       "    </tr>\n",
       "    <tr>\n",
       "      <th>9</th>\n",
       "      <td>LECHE SEMIDESCREM UHT LIGHT 3 UNIDADES</td>\n",
       "      <td>17.20</td>\n",
       "      <td>tottus</td>\n",
       "    </tr>\n",
       "    <tr>\n",
       "      <th>10</th>\n",
       "      <td>LECHE SEMIDESCREM UHT SUPER LIGHT 3 UNIDADES</td>\n",
       "      <td>16.00</td>\n",
       "      <td>tottus</td>\n",
       "    </tr>\n",
       "    <tr>\n",
       "      <th>0</th>\n",
       "      <td>Leche Evaporada GLORIA sin Lactosa Lata 400g P</td>\n",
       "      <td>21.60</td>\n",
       "      <td>plazavea</td>\n",
       "    </tr>\n",
       "    <tr>\n",
       "      <th>1</th>\n",
       "      <td>Leche UHT GLORIA sin Lactosa Pack 3un x</td>\n",
       "      <td>16.20</td>\n",
       "      <td>plazavea</td>\n",
       "    </tr>\n",
       "    <tr>\n",
       "      <th>2</th>\n",
       "      <td>Leche UHT GLORIA Sin Lactosa Bolsa 90</td>\n",
       "      <td>4.49</td>\n",
       "      <td>plazavea</td>\n",
       "    </tr>\n",
       "    <tr>\n",
       "      <th>3</th>\n",
       "      <td>Leche Fresca UHT GLORIA sin Lactosa Caja</td>\n",
       "      <td>5.60</td>\n",
       "      <td>plazavea</td>\n",
       "    </tr>\n",
       "    <tr>\n",
       "      <th>4</th>\n",
       "      <td>Leche UHT Sin Lactosa GLORIA Botella 94</td>\n",
       "      <td>5.40</td>\n",
       "      <td>plazavea</td>\n",
       "    </tr>\n",
       "    <tr>\n",
       "      <th>5</th>\n",
       "      <td>Leche GLORIA Evaporada Sin Lactosa Lata 4</td>\n",
       "      <td>4.50</td>\n",
       "      <td>plazavea</td>\n",
       "    </tr>\n",
       "    <tr>\n",
       "      <th>0</th>\n",
       "      <td>Leche UHT Gloria Sin Lactosa tripack 1 L</td>\n",
       "      <td>16.20</td>\n",
       "      <td>metro</td>\n",
       "    </tr>\n",
       "    <tr>\n",
       "      <th>1</th>\n",
       "      <td>Leche UHT sin Lactosa Gloria Botella 946 ml</td>\n",
       "      <td>5.40</td>\n",
       "      <td>metro</td>\n",
       "    </tr>\n",
       "    <tr>\n",
       "      <th>2</th>\n",
       "      <td>Leche Concentrada Sin Lactosa Gloria Lata 400 gr</td>\n",
       "      <td>4.50</td>\n",
       "      <td>metro</td>\n",
       "    </tr>\n",
       "    <tr>\n",
       "      <th>3</th>\n",
       "      <td>Leche Semidescremada UHT Gloria Sin Lactosa Ca...</td>\n",
       "      <td>5.60</td>\n",
       "      <td>metro</td>\n",
       "    </tr>\n",
       "    <tr>\n",
       "      <th>4</th>\n",
       "      <td>Leche Semidescremada UHT Gloria Sin Lactosa Bo...</td>\n",
       "      <td>4.89</td>\n",
       "      <td>metro</td>\n",
       "    </tr>\n",
       "    <tr>\n",
       "      <th>5</th>\n",
       "      <td>Leche Concentrada Sin Lactosa Gloria Pack de 6...</td>\n",
       "      <td>22.80</td>\n",
       "      <td>metro</td>\n",
       "    </tr>\n",
       "    <tr>\n",
       "      <th>6</th>\n",
       "      <td>Leche Semidescremada UHT Sin Lactosa Laive 1L</td>\n",
       "      <td>5.30</td>\n",
       "      <td>metro</td>\n",
       "    </tr>\n",
       "    <tr>\n",
       "      <th>7</th>\n",
       "      <td>Leche Semidescremada UHT Laive Sin Lactosa 900ml</td>\n",
       "      <td>4.59</td>\n",
       "      <td>metro</td>\n",
       "    </tr>\n",
       "    <tr>\n",
       "      <th>8</th>\n",
       "      <td>Pack x6 Leche Concentrada Sin Lactosa Laive 400g</td>\n",
       "      <td>19.90</td>\n",
       "      <td>metro</td>\n",
       "    </tr>\n",
       "    <tr>\n",
       "      <th>9</th>\n",
       "      <td>Leche Concentrada Sin Lactosa Laive Botella 400 g</td>\n",
       "      <td>3.99</td>\n",
       "      <td>metro</td>\n",
       "    </tr>\n",
       "    <tr>\n",
       "      <th>10</th>\n",
       "      <td>Yogurt Parcialmente Descremado Sin Lactosa Fre...</td>\n",
       "      <td>7.90</td>\n",
       "      <td>metro</td>\n",
       "    </tr>\n",
       "    <tr>\n",
       "      <th>11</th>\n",
       "      <td>Pack x4 Leche Semidescremada UHT Sin Lactosa L...</td>\n",
       "      <td>20.30</td>\n",
       "      <td>metro</td>\n",
       "    </tr>\n",
       "    <tr>\n",
       "      <th>12</th>\n",
       "      <td>Batido Con Proteínas Sin Lactosa UHT PRO Frasc...</td>\n",
       "      <td>4.50</td>\n",
       "      <td>metro</td>\n",
       "    </tr>\n",
       "    <tr>\n",
       "      <th>13</th>\n",
       "      <td>Bebida de Almendra Vainilla Cuisine &amp; Co Caja ...</td>\n",
       "      <td>10.90</td>\n",
       "      <td>metro</td>\n",
       "    </tr>\n",
       "    <tr>\n",
       "      <th>14</th>\n",
       "      <td>Bebida de Almendra Chocolate Cuisine &amp; Co Caja...</td>\n",
       "      <td>10.90</td>\n",
       "      <td>metro</td>\n",
       "    </tr>\n",
       "    <tr>\n",
       "      <th>15</th>\n",
       "      <td>Bebida de Almendra Original Cuisine &amp; Co Caja ...</td>\n",
       "      <td>10.90</td>\n",
       "      <td>metro</td>\n",
       "    </tr>\n",
       "  </tbody>\n",
       "</table>\n",
       "</div>\n",
       "      <button class=\"colab-df-convert\" onclick=\"convertToInteractive('df-7b94745e-4174-4d33-a623-81e0ae5811ba')\"\n",
       "              title=\"Convert this dataframe to an interactive table.\"\n",
       "              style=\"display:none;\">\n",
       "        \n",
       "  <svg xmlns=\"http://www.w3.org/2000/svg\" height=\"24px\"viewBox=\"0 0 24 24\"\n",
       "       width=\"24px\">\n",
       "    <path d=\"M0 0h24v24H0V0z\" fill=\"none\"/>\n",
       "    <path d=\"M18.56 5.44l.94 2.06.94-2.06 2.06-.94-2.06-.94-.94-2.06-.94 2.06-2.06.94zm-11 1L8.5 8.5l.94-2.06 2.06-.94-2.06-.94L8.5 2.5l-.94 2.06-2.06.94zm10 10l.94 2.06.94-2.06 2.06-.94-2.06-.94-.94-2.06-.94 2.06-2.06.94z\"/><path d=\"M17.41 7.96l-1.37-1.37c-.4-.4-.92-.59-1.43-.59-.52 0-1.04.2-1.43.59L10.3 9.45l-7.72 7.72c-.78.78-.78 2.05 0 2.83L4 21.41c.39.39.9.59 1.41.59.51 0 1.02-.2 1.41-.59l7.78-7.78 2.81-2.81c.8-.78.8-2.07 0-2.86zM5.41 20L4 18.59l7.72-7.72 1.47 1.35L5.41 20z\"/>\n",
       "  </svg>\n",
       "      </button>\n",
       "      \n",
       "  <style>\n",
       "    .colab-df-container {\n",
       "      display:flex;\n",
       "      flex-wrap:wrap;\n",
       "      gap: 12px;\n",
       "    }\n",
       "\n",
       "    .colab-df-convert {\n",
       "      background-color: #E8F0FE;\n",
       "      border: none;\n",
       "      border-radius: 50%;\n",
       "      cursor: pointer;\n",
       "      display: none;\n",
       "      fill: #1967D2;\n",
       "      height: 32px;\n",
       "      padding: 0 0 0 0;\n",
       "      width: 32px;\n",
       "    }\n",
       "\n",
       "    .colab-df-convert:hover {\n",
       "      background-color: #E2EBFA;\n",
       "      box-shadow: 0px 1px 2px rgba(60, 64, 67, 0.3), 0px 1px 3px 1px rgba(60, 64, 67, 0.15);\n",
       "      fill: #174EA6;\n",
       "    }\n",
       "\n",
       "    [theme=dark] .colab-df-convert {\n",
       "      background-color: #3B4455;\n",
       "      fill: #D2E3FC;\n",
       "    }\n",
       "\n",
       "    [theme=dark] .colab-df-convert:hover {\n",
       "      background-color: #434B5C;\n",
       "      box-shadow: 0px 1px 3px 1px rgba(0, 0, 0, 0.15);\n",
       "      filter: drop-shadow(0px 1px 2px rgba(0, 0, 0, 0.3));\n",
       "      fill: #FFFFFF;\n",
       "    }\n",
       "  </style>\n",
       "\n",
       "      <script>\n",
       "        const buttonEl =\n",
       "          document.querySelector('#df-7b94745e-4174-4d33-a623-81e0ae5811ba button.colab-df-convert');\n",
       "        buttonEl.style.display =\n",
       "          google.colab.kernel.accessAllowed ? 'block' : 'none';\n",
       "\n",
       "        async function convertToInteractive(key) {\n",
       "          const element = document.querySelector('#df-7b94745e-4174-4d33-a623-81e0ae5811ba');\n",
       "          const dataTable =\n",
       "            await google.colab.kernel.invokeFunction('convertToInteractive',\n",
       "                                                     [key], {});\n",
       "          if (!dataTable) return;\n",
       "\n",
       "          const docLinkHtml = 'Like what you see? Visit the ' +\n",
       "            '<a target=\"_blank\" href=https://colab.research.google.com/notebooks/data_table.ipynb>data table notebook</a>'\n",
       "            + ' to learn more about interactive tables.';\n",
       "          element.innerHTML = '';\n",
       "          dataTable['output_type'] = 'display_data';\n",
       "          await google.colab.output.renderOutput(dataTable, element);\n",
       "          const docLink = document.createElement('div');\n",
       "          docLink.innerHTML = docLinkHtml;\n",
       "          element.appendChild(docLink);\n",
       "        }\n",
       "      </script>\n",
       "    </div>\n",
       "  </div>\n",
       "  "
      ],
      "text/plain": [
       "                                      Nombre_producto  Precios_en_soles   \\\n",
       "0      LECHE GLORIA DESCREMADA SIN LACTOSA UTH 900 ML               4.20   \n",
       "1                     LECHE SIN LACTOSA GLORIA 400 GR               4.90   \n",
       "2      SIX PACK CONCENTRADA SIN LACTOSA GLORIA 400 GR              23.60   \n",
       "3                 LECHE SIN LÁCTOSA UHT GLORIA 946 ML               5.50   \n",
       "4                       LECHE SIN LACTOSA GLORIA 1 LT               6.30   \n",
       "5         PACK LECHE SEMIDESCREMADA GLORIA 3 UNIDADES              16.40   \n",
       "6                 LECHE EVAPORADA GLORIA LIGHT 400 GR               4.70   \n",
       "7                         SIX PACK LECHE LIGHT GLORIA              22.40   \n",
       "8                      LECHE FRESCA LIGHT GLORIA 1 LT               5.90   \n",
       "9              LECHE SEMIDESCREM UHT LIGHT 3 UNIDADES              17.20   \n",
       "10       LECHE SEMIDESCREM UHT SUPER LIGHT 3 UNIDADES              16.00   \n",
       "0      Leche Evaporada GLORIA sin Lactosa Lata 400g P              21.60   \n",
       "1             Leche UHT GLORIA sin Lactosa Pack 3un x              16.20   \n",
       "2               Leche UHT GLORIA Sin Lactosa Bolsa 90               4.49   \n",
       "3            Leche Fresca UHT GLORIA sin Lactosa Caja               5.60   \n",
       "4             Leche UHT Sin Lactosa GLORIA Botella 94               5.40   \n",
       "5           Leche GLORIA Evaporada Sin Lactosa Lata 4               4.50   \n",
       "0            Leche UHT Gloria Sin Lactosa tripack 1 L              16.20   \n",
       "1         Leche UHT sin Lactosa Gloria Botella 946 ml               5.40   \n",
       "2    Leche Concentrada Sin Lactosa Gloria Lata 400 gr               4.50   \n",
       "3   Leche Semidescremada UHT Gloria Sin Lactosa Ca...               5.60   \n",
       "4   Leche Semidescremada UHT Gloria Sin Lactosa Bo...               4.89   \n",
       "5   Leche Concentrada Sin Lactosa Gloria Pack de 6...              22.80   \n",
       "6       Leche Semidescremada UHT Sin Lactosa Laive 1L               5.30   \n",
       "7    Leche Semidescremada UHT Laive Sin Lactosa 900ml               4.59   \n",
       "8    Pack x6 Leche Concentrada Sin Lactosa Laive 400g              19.90   \n",
       "9   Leche Concentrada Sin Lactosa Laive Botella 400 g               3.99   \n",
       "10  Yogurt Parcialmente Descremado Sin Lactosa Fre...               7.90   \n",
       "11  Pack x4 Leche Semidescremada UHT Sin Lactosa L...              20.30   \n",
       "12  Batido Con Proteínas Sin Lactosa UHT PRO Frasc...               4.50   \n",
       "13  Bebida de Almendra Vainilla Cuisine & Co Caja ...              10.90   \n",
       "14  Bebida de Almendra Chocolate Cuisine & Co Caja...              10.90   \n",
       "15  Bebida de Almendra Original Cuisine & Co Caja ...              10.90   \n",
       "\n",
       "   Supermercado  \n",
       "0        tottus  \n",
       "1        tottus  \n",
       "2        tottus  \n",
       "3        tottus  \n",
       "4        tottus  \n",
       "5        tottus  \n",
       "6        tottus  \n",
       "7        tottus  \n",
       "8        tottus  \n",
       "9        tottus  \n",
       "10       tottus  \n",
       "0      plazavea  \n",
       "1      plazavea  \n",
       "2      plazavea  \n",
       "3      plazavea  \n",
       "4      plazavea  \n",
       "5      plazavea  \n",
       "0         metro  \n",
       "1         metro  \n",
       "2         metro  \n",
       "3         metro  \n",
       "4         metro  \n",
       "5         metro  \n",
       "6         metro  \n",
       "7         metro  \n",
       "8         metro  \n",
       "9         metro  \n",
       "10        metro  \n",
       "11        metro  \n",
       "12        metro  \n",
       "13        metro  \n",
       "14        metro  \n",
       "15        metro  "
      ]
     },
     "execution_count": 38,
     "metadata": {},
     "output_type": "execute_result"
    }
   ],
   "source": [
    "pd.concat([df_tottus, df_plazavea, df_metro]) "
   ]
  }
 ],
 "metadata": {
  "colab": {
   "name": "Untitled0.ipynb",
   "provenance": []
  },
  "kernelspec": {
   "display_name": "Python 3",
   "language": "python",
   "name": "python3"
  },
  "language_info": {
   "codemirror_mode": {
    "name": "ipython",
    "version": 3
   },
   "file_extension": ".py",
   "mimetype": "text/x-python",
   "name": "python",
   "nbconvert_exporter": "python",
   "pygments_lexer": "ipython3",
   "version": "3.8.8"
  }
 },
 "nbformat": 4,
 "nbformat_minor": 1
}
